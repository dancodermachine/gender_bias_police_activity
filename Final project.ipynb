{
 "cells": [
  {
   "cell_type": "markdown",
   "metadata": {},
   "source": [
    "# PROJECT - Gender Bias on Analyzing Police Activity"
   ]
  },
  {
   "cell_type": "markdown",
   "metadata": {},
   "source": [
    "On a normal day in the United States, law enforcement produces more than 50,000 traffic stops. To understand the interactions between police officers and the public during these traffic stops, a team named The Stanford Open Policing Project is collecting the data  and making it available for free [here](https://openpolicing.stanford.edu/data/).\n",
    "\n",
    "This dataset contains information from the state of Rhode Island State. The objective of this project is to discover if gender bias exists on search conductions, the type of search and the outcomes of each search. The work that will be done is using descriptive statistic (describing the sample data). This project does not try to infer from the data. \n"
   ]
  },
  {
   "cell_type": "markdown",
   "metadata": {},
   "source": [
    "## 1. Data Collection"
   ]
  },
  {
   "cell_type": "code",
   "execution_count": 1,
   "metadata": {},
   "outputs": [],
   "source": [
    "import pandas as pd\n",
    "import matplotlib.pyplot as plt\n",
    "import numpy as np\n",
    "import seaborn as sns\n",
    "import os\n",
    "import sys\n",
    "import requests\n",
    "from os import path"
   ]
  },
  {
   "cell_type": "code",
   "execution_count": 2,
   "metadata": {},
   "outputs": [],
   "source": [
    "def collect(url, name_file):\n",
    "    if path.exists(name_file) == False:\n",
    "        response = requests.get(url)\n",
    "        with open(name_file, mode='wb') as file:\n",
    "            file.write(response.content)\n",
    "    else:\n",
    "        pass\n",
    "    return name_file"
   ]
  },
  {
   "cell_type": "code",
   "execution_count": 3,
   "metadata": {},
   "outputs": [],
   "source": [
    "def upload(name_file):\n",
    "    dataframe = pd.read_csv(name_file) \n",
    "    return dataframe"
   ]
  },
  {
   "cell_type": "code",
   "execution_count": 4,
   "metadata": {},
   "outputs": [
    {
     "data": {
      "text/html": [
       "<div>\n",
       "<style scoped>\n",
       "    .dataframe tbody tr th:only-of-type {\n",
       "        vertical-align: middle;\n",
       "    }\n",
       "\n",
       "    .dataframe tbody tr th {\n",
       "        vertical-align: top;\n",
       "    }\n",
       "\n",
       "    .dataframe thead th {\n",
       "        text-align: right;\n",
       "    }\n",
       "</style>\n",
       "<table border=\"1\" class=\"dataframe\">\n",
       "  <thead>\n",
       "    <tr style=\"text-align: right;\">\n",
       "      <th></th>\n",
       "      <th>state</th>\n",
       "      <th>stop_date</th>\n",
       "      <th>stop_time</th>\n",
       "      <th>county_name</th>\n",
       "      <th>driver_gender</th>\n",
       "      <th>driver_race</th>\n",
       "      <th>violation_raw</th>\n",
       "      <th>violation</th>\n",
       "      <th>search_conducted</th>\n",
       "      <th>search_type</th>\n",
       "      <th>stop_outcome</th>\n",
       "      <th>is_arrested</th>\n",
       "      <th>stop_duration</th>\n",
       "      <th>drugs_related_stop</th>\n",
       "      <th>district</th>\n",
       "    </tr>\n",
       "  </thead>\n",
       "  <tbody>\n",
       "    <tr>\n",
       "      <th>0</th>\n",
       "      <td>RI</td>\n",
       "      <td>2005-01-04</td>\n",
       "      <td>12:55</td>\n",
       "      <td>NaN</td>\n",
       "      <td>M</td>\n",
       "      <td>White</td>\n",
       "      <td>Equipment/Inspection Violation</td>\n",
       "      <td>Equipment</td>\n",
       "      <td>False</td>\n",
       "      <td>NaN</td>\n",
       "      <td>Citation</td>\n",
       "      <td>False</td>\n",
       "      <td>0-15 Min</td>\n",
       "      <td>False</td>\n",
       "      <td>Zone X4</td>\n",
       "    </tr>\n",
       "    <tr>\n",
       "      <th>1</th>\n",
       "      <td>RI</td>\n",
       "      <td>2005-01-23</td>\n",
       "      <td>23:15</td>\n",
       "      <td>NaN</td>\n",
       "      <td>M</td>\n",
       "      <td>White</td>\n",
       "      <td>Speeding</td>\n",
       "      <td>Speeding</td>\n",
       "      <td>False</td>\n",
       "      <td>NaN</td>\n",
       "      <td>Citation</td>\n",
       "      <td>False</td>\n",
       "      <td>0-15 Min</td>\n",
       "      <td>False</td>\n",
       "      <td>Zone K3</td>\n",
       "    </tr>\n",
       "    <tr>\n",
       "      <th>2</th>\n",
       "      <td>RI</td>\n",
       "      <td>2005-02-17</td>\n",
       "      <td>04:15</td>\n",
       "      <td>NaN</td>\n",
       "      <td>M</td>\n",
       "      <td>White</td>\n",
       "      <td>Speeding</td>\n",
       "      <td>Speeding</td>\n",
       "      <td>False</td>\n",
       "      <td>NaN</td>\n",
       "      <td>Citation</td>\n",
       "      <td>False</td>\n",
       "      <td>0-15 Min</td>\n",
       "      <td>False</td>\n",
       "      <td>Zone X4</td>\n",
       "    </tr>\n",
       "    <tr>\n",
       "      <th>3</th>\n",
       "      <td>RI</td>\n",
       "      <td>2005-02-20</td>\n",
       "      <td>17:15</td>\n",
       "      <td>NaN</td>\n",
       "      <td>M</td>\n",
       "      <td>White</td>\n",
       "      <td>Call for Service</td>\n",
       "      <td>Other</td>\n",
       "      <td>False</td>\n",
       "      <td>NaN</td>\n",
       "      <td>Arrest Driver</td>\n",
       "      <td>True</td>\n",
       "      <td>16-30 Min</td>\n",
       "      <td>False</td>\n",
       "      <td>Zone X1</td>\n",
       "    </tr>\n",
       "    <tr>\n",
       "      <th>4</th>\n",
       "      <td>RI</td>\n",
       "      <td>2005-02-24</td>\n",
       "      <td>01:20</td>\n",
       "      <td>NaN</td>\n",
       "      <td>F</td>\n",
       "      <td>White</td>\n",
       "      <td>Speeding</td>\n",
       "      <td>Speeding</td>\n",
       "      <td>False</td>\n",
       "      <td>NaN</td>\n",
       "      <td>Citation</td>\n",
       "      <td>False</td>\n",
       "      <td>0-15 Min</td>\n",
       "      <td>False</td>\n",
       "      <td>Zone X3</td>\n",
       "    </tr>\n",
       "  </tbody>\n",
       "</table>\n",
       "</div>"
      ],
      "text/plain": [
       "  state   stop_date stop_time  county_name driver_gender driver_race  \\\n",
       "0    RI  2005-01-04     12:55          NaN             M       White   \n",
       "1    RI  2005-01-23     23:15          NaN             M       White   \n",
       "2    RI  2005-02-17     04:15          NaN             M       White   \n",
       "3    RI  2005-02-20     17:15          NaN             M       White   \n",
       "4    RI  2005-02-24     01:20          NaN             F       White   \n",
       "\n",
       "                    violation_raw  violation  search_conducted search_type  \\\n",
       "0  Equipment/Inspection Violation  Equipment             False         NaN   \n",
       "1                        Speeding   Speeding             False         NaN   \n",
       "2                        Speeding   Speeding             False         NaN   \n",
       "3                Call for Service      Other             False         NaN   \n",
       "4                        Speeding   Speeding             False         NaN   \n",
       "\n",
       "    stop_outcome is_arrested stop_duration  drugs_related_stop district  \n",
       "0       Citation       False      0-15 Min               False  Zone X4  \n",
       "1       Citation       False      0-15 Min               False  Zone K3  \n",
       "2       Citation       False      0-15 Min               False  Zone X4  \n",
       "3  Arrest Driver        True     16-30 Min               False  Zone X1  \n",
       "4       Citation       False      0-15 Min               False  Zone X3  "
      ]
     },
     "execution_count": 4,
     "metadata": {},
     "output_type": "execute_result"
    }
   ],
   "source": [
    "url = 'https://assets.datacamp.com/production/repositories/1497/datasets/62bd9feef451860db02d26553613a299721882e8/police.csv'\n",
    "\n",
    "name_file = collect(url, 'police.csv')\n",
    "dataframe = upload(name_file)\n",
    "dataframe.head()"
   ]
  },
  {
   "cell_type": "code",
   "execution_count": 6,
   "metadata": {},
   "outputs": [
    {
     "data": {
      "text/plain": [
       "array(['Equipment', 'Speeding', 'Other', nan, 'Moving violation',\n",
       "       'Registration/plates', 'Seat belt'], dtype=object)"
      ]
     },
     "execution_count": 6,
     "metadata": {},
     "output_type": "execute_result"
    }
   ],
   "source": [
    "dataframe.violation.unique()"
   ]
  },
  {
   "cell_type": "markdown",
   "metadata": {},
   "source": [
    "## 2. Data Cleaning "
   ]
  },
  {
   "cell_type": "code",
   "execution_count": 55,
   "metadata": {},
   "outputs": [
    {
     "name": "stdout",
     "output_type": "stream",
     "text": [
      "<class 'pandas.core.frame.DataFrame'>\n",
      "RangeIndex: 91741 entries, 0 to 91740\n",
      "Data columns (total 15 columns):\n",
      " #   Column              Non-Null Count  Dtype  \n",
      "---  ------              --------------  -----  \n",
      " 0   state               91741 non-null  object \n",
      " 1   stop_date           91741 non-null  object \n",
      " 2   stop_time           91741 non-null  object \n",
      " 3   county_name         0 non-null      float64\n",
      " 4   driver_gender       86536 non-null  object \n",
      " 5   driver_race         86539 non-null  object \n",
      " 6   violation_raw       86539 non-null  object \n",
      " 7   violation           86539 non-null  object \n",
      " 8   search_conducted    91741 non-null  bool   \n",
      " 9   search_type         3307 non-null   object \n",
      " 10  stop_outcome        86539 non-null  object \n",
      " 11  is_arrested         86539 non-null  object \n",
      " 12  stop_duration       86539 non-null  object \n",
      " 13  drugs_related_stop  91741 non-null  bool   \n",
      " 14  district            91741 non-null  object \n",
      "dtypes: bool(2), float64(1), object(12)\n",
      "memory usage: 9.3+ MB\n"
     ]
    }
   ],
   "source": [
    "dataframe.info()"
   ]
  },
  {
   "cell_type": "markdown",
   "metadata": {},
   "source": [
    "* Column `state` only has one value RI, therefore this column will be dropped."
   ]
  },
  {
   "cell_type": "code",
   "execution_count": 56,
   "metadata": {},
   "outputs": [
    {
     "data": {
      "text/plain": [
       "1"
      ]
     },
     "execution_count": 56,
     "metadata": {},
     "output_type": "execute_result"
    }
   ],
   "source": [
    "dataframe.state.nunique()"
   ]
  },
  {
   "cell_type": "code",
   "execution_count": 57,
   "metadata": {},
   "outputs": [],
   "source": [
    "dataframe.drop(columns=['state'], inplace=True)"
   ]
  },
  {
   "cell_type": "markdown",
   "metadata": {},
   "source": [
    "* Column `stop_date` and `stop_time` must be combined and then convert to datetime. These columns will be merge on a new column called `stop_date_time`. Finally, `stop_date` and `stop_time` columns will be dropped."
   ]
  },
  {
   "cell_type": "code",
   "execution_count": 58,
   "metadata": {},
   "outputs": [
    {
     "name": "stdout",
     "output_type": "stream",
     "text": [
      "Index(['county_name', 'driver_gender', 'driver_race', 'violation_raw',\n",
      "       'violation', 'search_conducted', 'search_type', 'stop_outcome',\n",
      "       'is_arrested', 'stop_duration', 'drugs_related_stop', 'district',\n",
      "       'stop_date_time'],\n",
      "      dtype='object')\n",
      "--------\n",
      "datetime64[ns]\n"
     ]
    }
   ],
   "source": [
    "dataframe['stop_date_time'] = dataframe['stop_date'] + ' ' + dataframe['stop_time']\n",
    "dataframe['stop_date_time'] = pd.to_datetime(dataframe['stop_date_time'])\n",
    "dataframe.drop(columns=['stop_date', 'stop_time'], inplace=True)\n",
    "print(dataframe.columns)\n",
    "print('--------')\n",
    "print(dataframe.stop_date_time.dtype)"
   ]
  },
  {
   "cell_type": "markdown",
   "metadata": {},
   "source": [
    "* The `county_name` column is empty, therefore it will be dropped."
   ]
  },
  {
   "cell_type": "code",
   "execution_count": 59,
   "metadata": {},
   "outputs": [
    {
     "data": {
      "text/plain": [
       "Series([], Name: county_name, dtype: int64)"
      ]
     },
     "execution_count": 59,
     "metadata": {},
     "output_type": "execute_result"
    }
   ],
   "source": [
    "dataframe.county_name.value_counts()"
   ]
  },
  {
   "cell_type": "code",
   "execution_count": 60,
   "metadata": {},
   "outputs": [],
   "source": [
    "dataframe.drop(columns=['county_name'], inplace=True)"
   ]
  },
  {
   "cell_type": "code",
   "execution_count": 61,
   "metadata": {},
   "outputs": [
    {
     "data": {
      "text/plain": [
       "Index(['driver_gender', 'driver_race', 'violation_raw', 'violation',\n",
       "       'search_conducted', 'search_type', 'stop_outcome', 'is_arrested',\n",
       "       'stop_duration', 'drugs_related_stop', 'district', 'stop_date_time'],\n",
       "      dtype='object')"
      ]
     },
     "execution_count": 61,
     "metadata": {},
     "output_type": "execute_result"
    }
   ],
   "source": [
    "dataframe.columns"
   ]
  },
  {
   "cell_type": "markdown",
   "metadata": {},
   "source": [
    "* `is_arrested`, `search_conducted` and `drugs_related_stop` columns have only True and False values. They will be converted to boolean type."
   ]
  },
  {
   "cell_type": "code",
   "execution_count": 62,
   "metadata": {},
   "outputs": [
    {
     "data": {
      "text/plain": [
       "False    88434\n",
       "True      3307\n",
       "Name: search_conducted, dtype: int64"
      ]
     },
     "execution_count": 62,
     "metadata": {},
     "output_type": "execute_result"
    }
   ],
   "source": [
    "dataframe.search_conducted.value_counts()"
   ]
  },
  {
   "cell_type": "code",
   "execution_count": 63,
   "metadata": {},
   "outputs": [
    {
     "data": {
      "text/plain": [
       "False    90879\n",
       "True       862\n",
       "Name: drugs_related_stop, dtype: int64"
      ]
     },
     "execution_count": 63,
     "metadata": {},
     "output_type": "execute_result"
    }
   ],
   "source": [
    "dataframe.drugs_related_stop.value_counts()"
   ]
  },
  {
   "cell_type": "code",
   "execution_count": 64,
   "metadata": {},
   "outputs": [
    {
     "data": {
      "text/plain": [
       "False    83461\n",
       "True      3078\n",
       "Name: is_arrested, dtype: int64"
      ]
     },
     "execution_count": 64,
     "metadata": {},
     "output_type": "execute_result"
    }
   ],
   "source": [
    "dataframe.is_arrested.value_counts()"
   ]
  },
  {
   "cell_type": "code",
   "execution_count": 65,
   "metadata": {},
   "outputs": [],
   "source": [
    "dataframe['search_conducted'] = dataframe['search_conducted'].astype(bool)\n",
    "dataframe['drugs_related_stop'] = dataframe['drugs_related_stop'].astype(bool)\n",
    "dataframe['is_arrested'] = dataframe['is_arrested'].astype(bool)"
   ]
  },
  {
   "cell_type": "code",
   "execution_count": 66,
   "metadata": {},
   "outputs": [
    {
     "name": "stdout",
     "output_type": "stream",
     "text": [
      "<class 'pandas.core.frame.DataFrame'>\n",
      "RangeIndex: 91741 entries, 0 to 91740\n",
      "Data columns (total 12 columns):\n",
      " #   Column              Non-Null Count  Dtype         \n",
      "---  ------              --------------  -----         \n",
      " 0   driver_gender       86536 non-null  object        \n",
      " 1   driver_race         86539 non-null  object        \n",
      " 2   violation_raw       86539 non-null  object        \n",
      " 3   violation           86539 non-null  object        \n",
      " 4   search_conducted    91741 non-null  bool          \n",
      " 5   search_type         3307 non-null   object        \n",
      " 6   stop_outcome        86539 non-null  object        \n",
      " 7   is_arrested         91741 non-null  bool          \n",
      " 8   stop_duration       86539 non-null  object        \n",
      " 9   drugs_related_stop  91741 non-null  bool          \n",
      " 10  district            91741 non-null  object        \n",
      " 11  stop_date_time      91741 non-null  datetime64[ns]\n",
      "dtypes: bool(3), datetime64[ns](1), object(8)\n",
      "memory usage: 6.6+ MB\n"
     ]
    }
   ],
   "source": [
    "dataframe.info()"
   ]
  },
  {
   "cell_type": "markdown",
   "metadata": {},
   "source": [
    "* `driver_race`, `violation_raw`, `violation`, `stop_outcome` and `stop_duration` columns have 5202 missing values. `driver_gender` column has 5205 missing values. Since the `driver_gender` column is one of the most important columns for this analysis, missing values will be dropped using this column as a reference."
   ]
  },
  {
   "cell_type": "code",
   "execution_count": 67,
   "metadata": {},
   "outputs": [
    {
     "data": {
      "text/plain": [
       "driver_gender          5205\n",
       "driver_race            5202\n",
       "violation_raw          5202\n",
       "violation              5202\n",
       "search_conducted          0\n",
       "search_type           88434\n",
       "stop_outcome           5202\n",
       "is_arrested               0\n",
       "stop_duration          5202\n",
       "drugs_related_stop        0\n",
       "district                  0\n",
       "stop_date_time            0\n",
       "dtype: int64"
      ]
     },
     "execution_count": 67,
     "metadata": {},
     "output_type": "execute_result"
    }
   ],
   "source": [
    "dataframe.isnull().sum()"
   ]
  },
  {
   "cell_type": "code",
   "execution_count": 68,
   "metadata": {},
   "outputs": [],
   "source": [
    "dataframe.dropna(subset=['driver_gender'], inplace=True)"
   ]
  },
  {
   "cell_type": "code",
   "execution_count": 69,
   "metadata": {},
   "outputs": [
    {
     "data": {
      "text/plain": [
       "driver_gender             0\n",
       "driver_race               0\n",
       "violation_raw             0\n",
       "violation                 0\n",
       "search_conducted          0\n",
       "search_type           83229\n",
       "stop_outcome              0\n",
       "is_arrested               0\n",
       "stop_duration             0\n",
       "drugs_related_stop        0\n",
       "district                  0\n",
       "stop_date_time            0\n",
       "dtype: int64"
      ]
     },
     "execution_count": 69,
     "metadata": {},
     "output_type": "execute_result"
    }
   ],
   "source": [
    "dataframe.isnull().sum()"
   ]
  },
  {
   "cell_type": "markdown",
   "metadata": {},
   "source": [
    "* `search_type` column has 83229 missing values. The reason is that this column is only available when the column `search_conducted` is True."
   ]
  },
  {
   "cell_type": "code",
   "execution_count": 70,
   "metadata": {},
   "outputs": [
    {
     "data": {
      "text/html": [
       "<div>\n",
       "<style scoped>\n",
       "    .dataframe tbody tr th:only-of-type {\n",
       "        vertical-align: middle;\n",
       "    }\n",
       "\n",
       "    .dataframe tbody tr th {\n",
       "        vertical-align: top;\n",
       "    }\n",
       "\n",
       "    .dataframe thead th {\n",
       "        text-align: right;\n",
       "    }\n",
       "</style>\n",
       "<table border=\"1\" class=\"dataframe\">\n",
       "  <thead>\n",
       "    <tr style=\"text-align: right;\">\n",
       "      <th></th>\n",
       "      <th>driver_gender</th>\n",
       "      <th>driver_race</th>\n",
       "      <th>violation_raw</th>\n",
       "      <th>violation</th>\n",
       "      <th>search_conducted</th>\n",
       "      <th>search_type</th>\n",
       "      <th>stop_outcome</th>\n",
       "      <th>is_arrested</th>\n",
       "      <th>stop_duration</th>\n",
       "      <th>drugs_related_stop</th>\n",
       "      <th>district</th>\n",
       "      <th>stop_date_time</th>\n",
       "    </tr>\n",
       "  </thead>\n",
       "  <tbody>\n",
       "    <tr>\n",
       "      <th>0</th>\n",
       "      <td>M</td>\n",
       "      <td>White</td>\n",
       "      <td>Equipment/Inspection Violation</td>\n",
       "      <td>Equipment</td>\n",
       "      <td>False</td>\n",
       "      <td>NaN</td>\n",
       "      <td>Citation</td>\n",
       "      <td>False</td>\n",
       "      <td>0-15 Min</td>\n",
       "      <td>False</td>\n",
       "      <td>Zone X4</td>\n",
       "      <td>2005-01-04 12:55:00</td>\n",
       "    </tr>\n",
       "    <tr>\n",
       "      <th>1</th>\n",
       "      <td>M</td>\n",
       "      <td>White</td>\n",
       "      <td>Speeding</td>\n",
       "      <td>Speeding</td>\n",
       "      <td>False</td>\n",
       "      <td>NaN</td>\n",
       "      <td>Citation</td>\n",
       "      <td>False</td>\n",
       "      <td>0-15 Min</td>\n",
       "      <td>False</td>\n",
       "      <td>Zone K3</td>\n",
       "      <td>2005-01-23 23:15:00</td>\n",
       "    </tr>\n",
       "    <tr>\n",
       "      <th>2</th>\n",
       "      <td>M</td>\n",
       "      <td>White</td>\n",
       "      <td>Speeding</td>\n",
       "      <td>Speeding</td>\n",
       "      <td>False</td>\n",
       "      <td>NaN</td>\n",
       "      <td>Citation</td>\n",
       "      <td>False</td>\n",
       "      <td>0-15 Min</td>\n",
       "      <td>False</td>\n",
       "      <td>Zone X4</td>\n",
       "      <td>2005-02-17 04:15:00</td>\n",
       "    </tr>\n",
       "    <tr>\n",
       "      <th>3</th>\n",
       "      <td>M</td>\n",
       "      <td>White</td>\n",
       "      <td>Call for Service</td>\n",
       "      <td>Other</td>\n",
       "      <td>False</td>\n",
       "      <td>NaN</td>\n",
       "      <td>Arrest Driver</td>\n",
       "      <td>True</td>\n",
       "      <td>16-30 Min</td>\n",
       "      <td>False</td>\n",
       "      <td>Zone X1</td>\n",
       "      <td>2005-02-20 17:15:00</td>\n",
       "    </tr>\n",
       "    <tr>\n",
       "      <th>4</th>\n",
       "      <td>F</td>\n",
       "      <td>White</td>\n",
       "      <td>Speeding</td>\n",
       "      <td>Speeding</td>\n",
       "      <td>False</td>\n",
       "      <td>NaN</td>\n",
       "      <td>Citation</td>\n",
       "      <td>False</td>\n",
       "      <td>0-15 Min</td>\n",
       "      <td>False</td>\n",
       "      <td>Zone X3</td>\n",
       "      <td>2005-02-24 01:20:00</td>\n",
       "    </tr>\n",
       "  </tbody>\n",
       "</table>\n",
       "</div>"
      ],
      "text/plain": [
       "  driver_gender driver_race                   violation_raw  violation  \\\n",
       "0             M       White  Equipment/Inspection Violation  Equipment   \n",
       "1             M       White                        Speeding   Speeding   \n",
       "2             M       White                        Speeding   Speeding   \n",
       "3             M       White                Call for Service      Other   \n",
       "4             F       White                        Speeding   Speeding   \n",
       "\n",
       "   search_conducted search_type   stop_outcome  is_arrested stop_duration  \\\n",
       "0             False         NaN       Citation        False      0-15 Min   \n",
       "1             False         NaN       Citation        False      0-15 Min   \n",
       "2             False         NaN       Citation        False      0-15 Min   \n",
       "3             False         NaN  Arrest Driver         True     16-30 Min   \n",
       "4             False         NaN       Citation        False      0-15 Min   \n",
       "\n",
       "   drugs_related_stop district      stop_date_time  \n",
       "0               False  Zone X4 2005-01-04 12:55:00  \n",
       "1               False  Zone K3 2005-01-23 23:15:00  \n",
       "2               False  Zone X4 2005-02-17 04:15:00  \n",
       "3               False  Zone X1 2005-02-20 17:15:00  \n",
       "4               False  Zone X3 2005-02-24 01:20:00  "
      ]
     },
     "execution_count": 70,
     "metadata": {},
     "output_type": "execute_result"
    }
   ],
   "source": [
    "dataframe.head()"
   ]
  },
  {
   "cell_type": "code",
   "execution_count": 71,
   "metadata": {},
   "outputs": [],
   "source": [
    "df = dataframe"
   ]
  },
  {
   "cell_type": "markdown",
   "metadata": {},
   "source": [
    "## 3. Answering questions"
   ]
  },
  {
   "cell_type": "markdown",
   "metadata": {},
   "source": [
    "### * Do the genders commit different violations?"
   ]
  },
  {
   "cell_type": "markdown",
   "metadata": {},
   "source": [
    "We need to first explore violations commited by all people."
   ]
  },
  {
   "cell_type": "code",
   "execution_count": 72,
   "metadata": {},
   "outputs": [
    {
     "data": {
      "text/html": [
       "<div>\n",
       "<style scoped>\n",
       "    .dataframe tbody tr th:only-of-type {\n",
       "        vertical-align: middle;\n",
       "    }\n",
       "\n",
       "    .dataframe tbody tr th {\n",
       "        vertical-align: top;\n",
       "    }\n",
       "\n",
       "    .dataframe thead th {\n",
       "        text-align: right;\n",
       "    }\n",
       "</style>\n",
       "<table border=\"1\" class=\"dataframe\">\n",
       "  <thead>\n",
       "    <tr style=\"text-align: right;\">\n",
       "      <th></th>\n",
       "      <th>index</th>\n",
       "      <th>violation</th>\n",
       "    </tr>\n",
       "  </thead>\n",
       "  <tbody>\n",
       "    <tr>\n",
       "      <th>0</th>\n",
       "      <td>Speeding</td>\n",
       "      <td>0.559571</td>\n",
       "    </tr>\n",
       "    <tr>\n",
       "      <th>1</th>\n",
       "      <td>Moving violation</td>\n",
       "      <td>0.187483</td>\n",
       "    </tr>\n",
       "    <tr>\n",
       "      <th>2</th>\n",
       "      <td>Equipment</td>\n",
       "      <td>0.126202</td>\n",
       "    </tr>\n",
       "    <tr>\n",
       "      <th>3</th>\n",
       "      <td>Other</td>\n",
       "      <td>0.050950</td>\n",
       "    </tr>\n",
       "    <tr>\n",
       "      <th>4</th>\n",
       "      <td>Registration/plates</td>\n",
       "      <td>0.042791</td>\n",
       "    </tr>\n",
       "    <tr>\n",
       "      <th>5</th>\n",
       "      <td>Seat belt</td>\n",
       "      <td>0.033004</td>\n",
       "    </tr>\n",
       "  </tbody>\n",
       "</table>\n",
       "</div>"
      ],
      "text/plain": [
       "                 index  violation\n",
       "0             Speeding   0.559571\n",
       "1     Moving violation   0.187483\n",
       "2            Equipment   0.126202\n",
       "3                Other   0.050950\n",
       "4  Registration/plates   0.042791\n",
       "5            Seat belt   0.033004"
      ]
     },
     "execution_count": 72,
     "metadata": {},
     "output_type": "execute_result"
    }
   ],
   "source": [
    "all_violations = df['violation'].value_counts(normalize=True).reset_index()\n",
    "all_violations"
   ]
  },
  {
   "cell_type": "code",
   "execution_count": 73,
   "metadata": {},
   "outputs": [],
   "source": [
    "women = df[df['driver_gender'] == 'F']\n",
    "men = df[df['driver_gender'] == 'M']"
   ]
  },
  {
   "cell_type": "code",
   "execution_count": 74,
   "metadata": {},
   "outputs": [
    {
     "data": {
      "text/html": [
       "<div>\n",
       "<style scoped>\n",
       "    .dataframe tbody tr th:only-of-type {\n",
       "        vertical-align: middle;\n",
       "    }\n",
       "\n",
       "    .dataframe tbody tr th {\n",
       "        vertical-align: top;\n",
       "    }\n",
       "\n",
       "    .dataframe thead th {\n",
       "        text-align: right;\n",
       "    }\n",
       "</style>\n",
       "<table border=\"1\" class=\"dataframe\">\n",
       "  <thead>\n",
       "    <tr style=\"text-align: right;\">\n",
       "      <th></th>\n",
       "      <th>index</th>\n",
       "      <th>violation</th>\n",
       "    </tr>\n",
       "  </thead>\n",
       "  <tbody>\n",
       "    <tr>\n",
       "      <th>0</th>\n",
       "      <td>Speeding</td>\n",
       "      <td>0.658114</td>\n",
       "    </tr>\n",
       "    <tr>\n",
       "      <th>1</th>\n",
       "      <td>Moving violation</td>\n",
       "      <td>0.138218</td>\n",
       "    </tr>\n",
       "    <tr>\n",
       "      <th>2</th>\n",
       "      <td>Equipment</td>\n",
       "      <td>0.105199</td>\n",
       "    </tr>\n",
       "    <tr>\n",
       "      <th>3</th>\n",
       "      <td>Registration/plates</td>\n",
       "      <td>0.044418</td>\n",
       "    </tr>\n",
       "    <tr>\n",
       "      <th>4</th>\n",
       "      <td>Other</td>\n",
       "      <td>0.029738</td>\n",
       "    </tr>\n",
       "    <tr>\n",
       "      <th>5</th>\n",
       "      <td>Seat belt</td>\n",
       "      <td>0.024312</td>\n",
       "    </tr>\n",
       "  </tbody>\n",
       "</table>\n",
       "</div>"
      ],
      "text/plain": [
       "                 index  violation\n",
       "0             Speeding   0.658114\n",
       "1     Moving violation   0.138218\n",
       "2            Equipment   0.105199\n",
       "3  Registration/plates   0.044418\n",
       "4                Other   0.029738\n",
       "5            Seat belt   0.024312"
      ]
     },
     "execution_count": 74,
     "metadata": {},
     "output_type": "execute_result"
    }
   ],
   "source": [
    "violation_women = women.violation.value_counts(normalize=True).reset_index()\n",
    "violation_women"
   ]
  },
  {
   "cell_type": "code",
   "execution_count": 75,
   "metadata": {},
   "outputs": [
    {
     "data": {
      "text/html": [
       "<div>\n",
       "<style scoped>\n",
       "    .dataframe tbody tr th:only-of-type {\n",
       "        vertical-align: middle;\n",
       "    }\n",
       "\n",
       "    .dataframe tbody tr th {\n",
       "        vertical-align: top;\n",
       "    }\n",
       "\n",
       "    .dataframe thead th {\n",
       "        text-align: right;\n",
       "    }\n",
       "</style>\n",
       "<table border=\"1\" class=\"dataframe\">\n",
       "  <thead>\n",
       "    <tr style=\"text-align: right;\">\n",
       "      <th></th>\n",
       "      <th>index</th>\n",
       "      <th>violation</th>\n",
       "    </tr>\n",
       "  </thead>\n",
       "  <tbody>\n",
       "    <tr>\n",
       "      <th>0</th>\n",
       "      <td>Speeding</td>\n",
       "      <td>0.522243</td>\n",
       "    </tr>\n",
       "    <tr>\n",
       "      <th>1</th>\n",
       "      <td>Moving violation</td>\n",
       "      <td>0.206144</td>\n",
       "    </tr>\n",
       "    <tr>\n",
       "      <th>2</th>\n",
       "      <td>Equipment</td>\n",
       "      <td>0.134158</td>\n",
       "    </tr>\n",
       "    <tr>\n",
       "      <th>3</th>\n",
       "      <td>Other</td>\n",
       "      <td>0.058985</td>\n",
       "    </tr>\n",
       "    <tr>\n",
       "      <th>4</th>\n",
       "      <td>Registration/plates</td>\n",
       "      <td>0.042175</td>\n",
       "    </tr>\n",
       "    <tr>\n",
       "      <th>5</th>\n",
       "      <td>Seat belt</td>\n",
       "      <td>0.036296</td>\n",
       "    </tr>\n",
       "  </tbody>\n",
       "</table>\n",
       "</div>"
      ],
      "text/plain": [
       "                 index  violation\n",
       "0             Speeding   0.522243\n",
       "1     Moving violation   0.206144\n",
       "2            Equipment   0.134158\n",
       "3                Other   0.058985\n",
       "4  Registration/plates   0.042175\n",
       "5            Seat belt   0.036296"
      ]
     },
     "execution_count": 75,
     "metadata": {},
     "output_type": "execute_result"
    }
   ],
   "source": [
    "violation_men = men.violation.value_counts(normalize=True).reset_index()\n",
    "violation_men"
   ]
  },
  {
   "cell_type": "code",
   "execution_count": 76,
   "metadata": {},
   "outputs": [],
   "source": [
    "def ploting(dataframe, title, name_file):\n",
    "    \n",
    "    \"\"\"\n",
    "    This function graphs the relative frequency of each violation commited by each gender.\n",
    "    \n",
    "    #Parameters:\n",
    "    \n",
    "        dataframe(dataframe): dataframe filtered by sex.\n",
    "        title(str): Title of the graph.\n",
    "        name_file(str): Name given to the file.\n",
    "        \n",
    "    #Returns:\n",
    "    \n",
    "        It does not return anything but creates a graph and saves it in .png format.\n",
    "    \"\"\"\n",
    "    \n",
    "    g = sns.barplot(data=dataframe, x='index', y='violation', color='blue')\n",
    "    g.set_title(title) #add title\n",
    "    \n",
    "    #set xlabel and ylabel names as well as the Y upper limit\n",
    "    g.set(xlabel='violations', ylabel='relative frequency', ylim=(0, 1))\n",
    "    \n",
    "    g.set_xticklabels(list(dataframe['index']), rotation=90) #add label names in the x-axis\n",
    "    \n",
    "    #collecting x and y locations to add number above bars.\n",
    "    x_locations = np.arange(0,6)\n",
    "    y_locations = np.array(dataframe['violation'])\n",
    "    \n",
    "    #looping  over locations to add text on the top of each bar.\n",
    "    for x, y in zip(x_locations,y_locations):\n",
    "        g.text(x,y+0.01,str(round(y*100,2))+'%', ha='center')\n",
    "        \n",
    "    #saving figure in .png format\n",
    "    g.figure.savefig(name_file + '.png', bbox_inches='tight')"
   ]
  },
  {
   "cell_type": "code",
   "execution_count": 77,
   "metadata": {},
   "outputs": [
    {
     "data": {
      "image/png": "[encoded data removed]",
      "text/plain": [
       "<Figure size 432x288 with 1 Axes>"
      ]
     },
     "metadata": {
      "needs_background": "light"
     },
     "output_type": "display_data"
    }
   ],
   "source": [
    "ploting(violation_men, 'Men violations', 'men_violations')"
   ]
  },
  {
   "cell_type": "code",
   "execution_count": 78,
   "metadata": {},
   "outputs": [
    {
     "data": {
      "image/png": "[encoded data removed]",
      "text/plain": [
       "<Figure size 432x288 with 1 Axes>"
      ]
     },
     "metadata": {
      "needs_background": "light"
     },
     "output_type": "display_data"
    }
   ],
   "source": [
    "ploting(violation_women, 'Women violations', 'women_violations')"
   ]
  },
  {
   "cell_type": "markdown",
   "metadata": {},
   "source": [
    "### * Does gender affect who gets a ticket for each violation?"
   ]
  },
  {
   "cell_type": "code",
   "execution_count": 79,
   "metadata": {},
   "outputs": [
    {
     "data": {
      "text/plain": [
       "array(['Citation', 'Arrest Driver', 'Warning', 'N/D', 'No Action',\n",
       "       'Arrest Passenger'], dtype=object)"
      ]
     },
     "execution_count": 79,
     "metadata": {},
     "output_type": "execute_result"
    }
   ],
   "source": [
    "df.stop_outcome.unique()"
   ]
  },
  {
   "cell_type": "code",
   "execution_count": 80,
   "metadata": {},
   "outputs": [
    {
     "data": {
      "text/plain": [
       "array(['Equipment', 'Speeding', 'Other', 'Moving violation',\n",
       "       'Registration/plates', 'Seat belt'], dtype=object)"
      ]
     },
     "execution_count": 80,
     "metadata": {},
     "output_type": "execute_result"
    }
   ],
   "source": [
    "df.violation.unique()"
   ]
  },
  {
   "cell_type": "code",
   "execution_count": 81,
   "metadata": {},
   "outputs": [],
   "source": [
    "def outcome(violation_dataframe):\n",
    "    \n",
    "    \"\"\"\n",
    "    This function divides a dataframe into males and females and takes the relative frequency of each value in\n",
    "    the stop_outcome column. Then it merges the male and female dataframe to make only one dataframe.\n",
    "    \n",
    "    This function will be used inside the sorted_melted_df function.\n",
    "    \n",
    "    #Parameters:\n",
    "    \n",
    "        violation_dataframe (dataframe): filtered dataframe by violation e.g. df[df['violation'] == 'Speeding']\n",
    "        \n",
    "    #Returns:\n",
    "    \n",
    "        merge_df (dataframe): merge dataframe\n",
    "    \n",
    "    \n",
    "\n",
    "    \"\"\"\n",
    "    \n",
    "    #Dividing dataframe into two parts, men and women\n",
    "    men_violation = violation_dataframe[violation_dataframe['driver_gender']=='M']['stop_outcome'].value_counts(normalize=True).reset_index()\n",
    "    women_violation = violation_dataframe[violation_dataframe['driver_gender']=='F']['stop_outcome'].value_counts(normalize=True).reset_index()\n",
    "    \n",
    "    #Merging dataframe\n",
    "    merge_df = pd.merge(men_violation, women_violation, on='index', suffixes=['_men', '_women'])\n",
    "    \n",
    "    return merge_df"
   ]
  },
  {
   "cell_type": "code",
   "execution_count": 82,
   "metadata": {},
   "outputs": [],
   "source": [
    "def sorted_melted_df():\n",
    "    \n",
    "    \"\"\"\n",
    "    This function loops over each unique value in the 'violation' column of the dataframe and applies the outcome() function\n",
    "    on each dataframe. The it stores all the dataframes in one list. All the dataframes on the list are place into one\n",
    "    list. The list is then melted and cleaned. \n",
    "    \n",
    "    #Returns:\n",
    "    \n",
    "        sorted_melted_df (dataframe)    \n",
    "    \n",
    "    \"\"\"\n",
    "\n",
    "    list_df = [] #empty list where we will store the dataframes\n",
    "    violation_unique_list = list(df['violation'].unique()) #unique violation values list\n",
    "\n",
    "\n",
    "    for violation in violation_unique_list:\n",
    "            violation_dataframe = df[df['violation']==violation]\n",
    "            merge_df = outcome(violation_dataframe) #function outcome previously built\n",
    "            merge_df['violation'] = violation #adding column with the tag name of the dataframe e.g. Speeding\n",
    "            list_df.append(merge_df) #stores dataframe inside list_df\n",
    "\n",
    "    violation_hole = pd.concat(list_df) #concatenates all dataframes in list_df in one dataframe.\n",
    "    \n",
    "    #converts the stop_outcome_men and stop_outcome_women columns into rows. \n",
    "    melted_df = pd.melt(violation_hole, id_vars=['index', 'violation'], value_vars=['stop_outcome_men', 'stop_outcome_women'],\n",
    "                            var_name='gender', value_name='value')\n",
    "    \n",
    "    #melted_df['gender'] = melted_df['gender'].str.split('_').str[-1]\n",
    "    \n",
    "    #sorting values first by violation and then by value in descending order\n",
    "    sorted_melted_df = melted_df.sort_values(by=['violation', 'value'], ascending=False)\n",
    "    #converts 'stop_outcome_men' to 'M' and 'stop_outcome_women' into 'F'\n",
    "    sorted_melted_df['gender'] = sorted_melted_df['gender'].apply(lambda x: 'F' if x=='stop_outcome_women' else 'M')\n",
    "    #sorted_melted_df['index'] = sorted_melted_df['index'].apply(lambda y: 'n_d' if y=='N/D' else y)\n",
    "\n",
    "    #indexes are restored from e.g. 8 3 1 to 1 2 3\n",
    "    sorted_melted_df = sorted_melted_df.reset_index(drop=True)\n",
    "    #sorted_melted_df['outcome'] = sorted_melted_df['index'].apply(lambda x: 'n_d' if x=='N/D')\n",
    "    \n",
    "    return sorted_melted_df"
   ]
  },
  {
   "cell_type": "code",
   "execution_count": 83,
   "metadata": {},
   "outputs": [],
   "source": [
    "def generate_plot_different(dataframe, title, file_name):\n",
    "    \n",
    "    \"\"\" \n",
    "    This function uses a dataframe and converts it into a barplot graph. On the x-axis is the 'violation' column and in the\n",
    "    y axis the relative frequencies. Two bars for each violation will be used (orange for females and blue for males).\n",
    "    \n",
    "    This function will be used to generate a graph for each outcome.\n",
    "    \n",
    "    #Parameters:\n",
    "    \n",
    "        dataframe(dataframe): dataframe that has been previously been filtered by outcome\n",
    "        title(str)\n",
    "        file_name(str)\n",
    "        \n",
    "    #Returns:\n",
    "    \n",
    "        It does not return any value but it graphs the barplot and saves image in .png format. \n",
    "    \n",
    "    \"\"\"\n",
    "    \n",
    "    #setting the size of the figure\n",
    "    plt.figure(figsize=(10,5))\n",
    "    # creating barplot object\n",
    "    g = sns.barplot(data=dataframe, x='violation', y='value', hue='gender', palette=[\"C1\", \"C0\"], hue_order=['F', 'M'])\n",
    "    g.set_title(title) #adding title to the graph\n",
    "    g.set(xlabel='violation', ylabel='relative frequency', ylim=(0, 1)) #adding x and y label names. Y limit is also added.\n",
    "    \n",
    "    #Collecting locations to add text over the bar plots\n",
    "    x_locations = np.arange(0,6)\n",
    "    y_locations_male = np.array(dataframe[dataframe['gender']=='M']['value'])\n",
    "    y_locations_female = np.array(dataframe[dataframe['gender']=='F']['value'])\n",
    "    \n",
    "    #looping over each location to add text over the bar plots. y is for males and z is for females.\n",
    "    #each relative frequency will be converted into percentage and be added over each bar. \n",
    "    for x, y, z in zip(x_locations,y_locations_male, y_locations_female):\n",
    "        g.text(x+0.2,y,str(round(y*100,2))+'%', ha='center')\n",
    "        g.text(x-0.2,z,str(round(z*100,2)) + '%', ha='center')\n",
    "    \n",
    "    #image is saved in .png format\n",
    "    g.figure.savefig(file_name + '.png', bbox_inches='tight')"
   ]
  },
  {
   "cell_type": "code",
   "execution_count": 84,
   "metadata": {},
   "outputs": [],
   "source": [
    "sorted_melted_df = sorted_melted_df()"
   ]
  },
  {
   "cell_type": "code",
   "execution_count": 85,
   "metadata": {},
   "outputs": [
    {
     "data": {
      "text/plain": [
       "array(['Citation', 'Warning', 'Arrest Driver', 'Arrest Passenger',\n",
       "       'No Action', 'N/D'], dtype=object)"
      ]
     },
     "execution_count": 85,
     "metadata": {},
     "output_type": "execute_result"
    }
   ],
   "source": [
    "sorted_melted_df['index'].unique()"
   ]
  },
  {
   "cell_type": "code",
   "execution_count": 86,
   "metadata": {},
   "outputs": [],
   "source": [
    "sorted_melted_df = sorted_melted_df[sorted_melted_df['index'] != 'N/D']"
   ]
  },
  {
   "cell_type": "code",
   "execution_count": 87,
   "metadata": {},
   "outputs": [
    {
     "data": {
      "image/png": "[encoded data removed]",
      "text/plain": [
       "<Figure size 720x360 with 1 Axes>"
      ]
     },
     "metadata": {
      "needs_background": "light"
     },
     "output_type": "display_data"
    },
    {
     "data": {
      "image/png": "[encoded data removed]",
      "text/plain": [
       "<Figure size 720x360 with 1 Axes>"
      ]
     },
     "metadata": {
      "needs_background": "light"
     },
     "output_type": "display_data"
    },
    {
     "data": {
      "image/png": "[encoded data removed]",
      "text/plain": [
       "<Figure size 720x360 with 1 Axes>"
      ]
     },
     "metadata": {
      "needs_background": "light"
     },
     "output_type": "display_data"
    },
    {
     "data": {
      "image/png": "[encoded data removed]",
      "text/plain": [
       "<Figure size 720x360 with 1 Axes>"
      ]
     },
     "metadata": {
      "needs_background": "light"
     },
     "output_type": "display_data"
    },
    {
     "data": {
      "image/png": "[encoded data removed]",
      "text/plain": [
       "<Figure size 720x360 with 1 Axes>"
      ]
     },
     "metadata": {
      "needs_background": "light"
     },
     "output_type": "display_data"
    }
   ],
   "source": [
    "list_outcome = list(sorted_melted_df['index'].unique())\n",
    "for outcome in list_outcome:\n",
    "    dg = sorted_melted_df[sorted_melted_df['index']==outcome]\n",
    "    generate_plot_different(dg, outcome + ' Gender Bias', outcome);"
   ]
  },
  {
   "cell_type": "code",
   "execution_count": 88,
   "metadata": {},
   "outputs": [
    {
     "data": {
      "text/plain": [
       "['Citation', 'Warning', 'Arrest Driver', 'Arrest Passenger', 'No Action']"
      ]
     },
     "execution_count": 88,
     "metadata": {},
     "output_type": "execute_result"
    }
   ],
   "source": [
    "list(sorted_melted_df['index'].unique())"
   ]
  },
  {
   "cell_type": "markdown",
   "metadata": {},
   "source": [
    "### *Does gender affect whose vehicle is searched for each violation? "
   ]
  },
  {
   "cell_type": "code",
   "execution_count": 94,
   "metadata": {},
   "outputs": [],
   "source": [
    "df_seached = df.groupby(['violation',\n",
    "            'driver_gender'])['search_conducted'].mean().reset_index().sort_values(by='search_conducted',\n",
    "                                                                                   ascending=False).reset_index(drop=True)"
   ]
  },
  {
   "cell_type": "code",
   "execution_count": 95,
   "metadata": {},
   "outputs": [
    {
     "data": {
      "text/html": [
       "<div>\n",
       "<style scoped>\n",
       "    .dataframe tbody tr th:only-of-type {\n",
       "        vertical-align: middle;\n",
       "    }\n",
       "\n",
       "    .dataframe tbody tr th {\n",
       "        vertical-align: top;\n",
       "    }\n",
       "\n",
       "    .dataframe thead th {\n",
       "        text-align: right;\n",
       "    }\n",
       "</style>\n",
       "<table border=\"1\" class=\"dataframe\">\n",
       "  <thead>\n",
       "    <tr style=\"text-align: right;\">\n",
       "      <th></th>\n",
       "      <th>violation</th>\n",
       "      <th>driver_gender</th>\n",
       "      <th>search_conducted</th>\n",
       "    </tr>\n",
       "  </thead>\n",
       "  <tbody>\n",
       "    <tr>\n",
       "      <th>0</th>\n",
       "      <td>Registration/plates</td>\n",
       "      <td>M</td>\n",
       "      <td>0.108802</td>\n",
       "    </tr>\n",
       "    <tr>\n",
       "      <th>1</th>\n",
       "      <td>Equipment</td>\n",
       "      <td>M</td>\n",
       "      <td>0.071496</td>\n",
       "    </tr>\n",
       "    <tr>\n",
       "      <th>2</th>\n",
       "      <td>Moving violation</td>\n",
       "      <td>M</td>\n",
       "      <td>0.061524</td>\n",
       "    </tr>\n",
       "    <tr>\n",
       "      <th>3</th>\n",
       "      <td>Registration/plates</td>\n",
       "      <td>F</td>\n",
       "      <td>0.054924</td>\n",
       "    </tr>\n",
       "    <tr>\n",
       "      <th>4</th>\n",
       "      <td>Other</td>\n",
       "      <td>M</td>\n",
       "      <td>0.046191</td>\n",
       "    </tr>\n",
       "    <tr>\n",
       "      <th>5</th>\n",
       "      <td>Other</td>\n",
       "      <td>F</td>\n",
       "      <td>0.041018</td>\n",
       "    </tr>\n",
       "    <tr>\n",
       "      <th>6</th>\n",
       "      <td>Equipment</td>\n",
       "      <td>F</td>\n",
       "      <td>0.039984</td>\n",
       "    </tr>\n",
       "    <tr>\n",
       "      <th>7</th>\n",
       "      <td>Moving violation</td>\n",
       "      <td>F</td>\n",
       "      <td>0.039257</td>\n",
       "    </tr>\n",
       "    <tr>\n",
       "      <th>8</th>\n",
       "      <td>Seat belt</td>\n",
       "      <td>M</td>\n",
       "      <td>0.035119</td>\n",
       "    </tr>\n",
       "    <tr>\n",
       "      <th>9</th>\n",
       "      <td>Speeding</td>\n",
       "      <td>M</td>\n",
       "      <td>0.027885</td>\n",
       "    </tr>\n",
       "    <tr>\n",
       "      <th>10</th>\n",
       "      <td>Seat belt</td>\n",
       "      <td>F</td>\n",
       "      <td>0.017301</td>\n",
       "    </tr>\n",
       "    <tr>\n",
       "      <th>11</th>\n",
       "      <td>Speeding</td>\n",
       "      <td>F</td>\n",
       "      <td>0.008309</td>\n",
       "    </tr>\n",
       "  </tbody>\n",
       "</table>\n",
       "</div>"
      ],
      "text/plain": [
       "              violation driver_gender  search_conducted\n",
       "0   Registration/plates             M          0.108802\n",
       "1             Equipment             M          0.071496\n",
       "2      Moving violation             M          0.061524\n",
       "3   Registration/plates             F          0.054924\n",
       "4                 Other             M          0.046191\n",
       "5                 Other             F          0.041018\n",
       "6             Equipment             F          0.039984\n",
       "7      Moving violation             F          0.039257\n",
       "8             Seat belt             M          0.035119\n",
       "9              Speeding             M          0.027885\n",
       "10            Seat belt             F          0.017301\n",
       "11             Speeding             F          0.008309"
      ]
     },
     "execution_count": 95,
     "metadata": {},
     "output_type": "execute_result"
    }
   ],
   "source": [
    "df_seached"
   ]
  },
  {
   "cell_type": "code",
   "execution_count": 96,
   "metadata": {},
   "outputs": [
    {
     "data": {
      "image/png": "[encoded data removed]",
      "text/plain": [
       "<Figure size 720x360 with 1 Axes>"
      ]
     },
     "metadata": {
      "needs_background": "light"
     },
     "output_type": "display_data"
    }
   ],
   "source": [
    "plt.figure(figsize=(10,5))\n",
    "ge = sns.barplot(data=df_seached, x='violation', y='search_conducted', hue='driver_gender')\n",
    "plt.xticks(rotation=90)\n",
    "plt.ylim([0,0.2])\n",
    "x_locations = np.arange(0,6)\n",
    "y_locations_male = np.array(df_seached[df_seached['driver_gender']=='M']['search_conducted'])\n",
    "y_locations_female = np.array(df_seached[df_seached['driver_gender']=='F']['search_conducted'])\n",
    "plt.title('Search Conduction relative frequency for each violation')\n",
    "plt.xlabel('violation')\n",
    "plt.ylabel('relative frequency')\n",
    "    \n",
    "for x, y, z in zip(x_locations,y_locations_male, y_locations_female):\n",
    "    ge.text(x-0.21,y+0.005,str(round(y*100,2)) + '%', ha='center')\n",
    "    ge.text(x+0.21,z+z*0.1,str(round(z*100,2)) + '%', ha='center')\n",
    "    \n",
    "ge.figure.savefig('search_conduction.png', bbox_inches='tight')"
   ]
  },
  {
   "cell_type": "markdown",
   "metadata": {},
   "source": [
    "### * Is there gender bias on the type of search? "
   ]
  },
  {
   "cell_type": "code",
   "execution_count": 41,
   "metadata": {},
   "outputs": [
    {
     "data": {
      "text/plain": [
       "NaN                                                         83229\n",
       "Incident to Arrest                                           1290\n",
       "Probable Cause                                                924\n",
       "Inventory                                                     219\n",
       "Reasonable Suspicion                                          214\n",
       "Protective Frisk                                              164\n",
       "Incident to Arrest,Inventory                                  123\n",
       "Incident to Arrest,Probable Cause                             100\n",
       "Probable Cause,Reasonable Suspicion                            54\n",
       "Incident to Arrest,Inventory,Probable Cause                    35\n",
       "Probable Cause,Protective Frisk                                35\n",
       "Incident to Arrest,Protective Frisk                            33\n",
       "Inventory,Probable Cause                                       25\n",
       "Protective Frisk,Reasonable Suspicion                          19\n",
       "Incident to Arrest,Inventory,Protective Frisk                  18\n",
       "Incident to Arrest,Probable Cause,Protective Frisk             13\n",
       "Inventory,Protective Frisk                                     12\n",
       "Incident to Arrest,Reasonable Suspicion                         8\n",
       "Incident to Arrest,Probable Cause,Reasonable Suspicion          5\n",
       "Probable Cause,Protective Frisk,Reasonable Suspicion            5\n",
       "Incident to Arrest,Inventory,Reasonable Suspicion               4\n",
       "Inventory,Reasonable Suspicion                                  2\n",
       "Incident to Arrest,Protective Frisk,Reasonable Suspicion        2\n",
       "Inventory,Probable Cause,Protective Frisk                       1\n",
       "Inventory,Protective Frisk,Reasonable Suspicion                 1\n",
       "Inventory,Probable Cause,Reasonable Suspicion                   1\n",
       "Name: search_type, dtype: int64"
      ]
     },
     "execution_count": 41,
     "metadata": {},
     "output_type": "execute_result"
    }
   ],
   "source": [
    "df['search_type'].value_counts(dropna=False)"
   ]
  },
  {
   "cell_type": "code",
   "execution_count": 42,
   "metadata": {},
   "outputs": [
    {
     "data": {
      "text/plain": [
       "False    83229\n",
       "True      3307\n",
       "Name: search_conducted, dtype: int64"
      ]
     },
     "execution_count": 42,
     "metadata": {},
     "output_type": "execute_result"
    }
   ],
   "source": [
    "df['search_conducted'].value_counts()"
   ]
  },
  {
   "cell_type": "code",
   "execution_count": 43,
   "metadata": {},
   "outputs": [],
   "source": [
    "search_type_list = ['Incident to Arrest', 'Probable Cause', 'Inventory', 'Reasonable Suspicion', 'Protective Frisk']"
   ]
  },
  {
   "cell_type": "code",
   "execution_count": 44,
   "metadata": {},
   "outputs": [],
   "source": [
    "for j in search_type_list:\n",
    "    df[j] = df['search_type'].str.contains(j, na=False)"
   ]
  },
  {
   "cell_type": "code",
   "execution_count": 45,
   "metadata": {},
   "outputs": [
    {
     "data": {
      "text/html": [
       "<div>\n",
       "<style scoped>\n",
       "    .dataframe tbody tr th:only-of-type {\n",
       "        vertical-align: middle;\n",
       "    }\n",
       "\n",
       "    .dataframe tbody tr th {\n",
       "        vertical-align: top;\n",
       "    }\n",
       "\n",
       "    .dataframe thead th {\n",
       "        text-align: right;\n",
       "    }\n",
       "</style>\n",
       "<table border=\"1\" class=\"dataframe\">\n",
       "  <thead>\n",
       "    <tr style=\"text-align: right;\">\n",
       "      <th></th>\n",
       "      <th>driver_gender</th>\n",
       "      <th>Incident to Arrest</th>\n",
       "      <th>Probable Cause</th>\n",
       "      <th>Inventory</th>\n",
       "      <th>Reasonable Suspicion</th>\n",
       "      <th>Protective Frisk</th>\n",
       "    </tr>\n",
       "  </thead>\n",
       "  <tbody>\n",
       "    <tr>\n",
       "      <th>0</th>\n",
       "      <td>F</td>\n",
       "      <td>0.546053</td>\n",
       "      <td>0.326754</td>\n",
       "      <td>0.175439</td>\n",
       "      <td>0.059211</td>\n",
       "      <td>0.074561</td>\n",
       "    </tr>\n",
       "    <tr>\n",
       "      <th>1</th>\n",
       "      <td>M</td>\n",
       "      <td>0.484742</td>\n",
       "      <td>0.367941</td>\n",
       "      <td>0.126622</td>\n",
       "      <td>0.101017</td>\n",
       "      <td>0.094353</td>\n",
       "    </tr>\n",
       "  </tbody>\n",
       "</table>\n",
       "</div>"
      ],
      "text/plain": [
       "  driver_gender  Incident to Arrest  Probable Cause  Inventory  \\\n",
       "0             F            0.546053        0.326754   0.175439   \n",
       "1             M            0.484742        0.367941   0.126622   \n",
       "\n",
       "   Reasonable Suspicion  Protective Frisk  \n",
       "0              0.059211          0.074561  \n",
       "1              0.101017          0.094353  "
      ]
     },
     "execution_count": 45,
     "metadata": {},
     "output_type": "execute_result"
    }
   ],
   "source": [
    "searched = df[df['search_conducted']==True]\n",
    "searched = searched.groupby('driver_gender')[search_type_list].mean().reset_index()\n",
    "searched"
   ]
  },
  {
   "cell_type": "code",
   "execution_count": 46,
   "metadata": {},
   "outputs": [
    {
     "data": {
      "text/html": [
       "<div>\n",
       "<style scoped>\n",
       "    .dataframe tbody tr th:only-of-type {\n",
       "        vertical-align: middle;\n",
       "    }\n",
       "\n",
       "    .dataframe tbody tr th {\n",
       "        vertical-align: top;\n",
       "    }\n",
       "\n",
       "    .dataframe thead th {\n",
       "        text-align: right;\n",
       "    }\n",
       "</style>\n",
       "<table border=\"1\" class=\"dataframe\">\n",
       "  <thead>\n",
       "    <tr style=\"text-align: right;\">\n",
       "      <th></th>\n",
       "      <th>driver_gender</th>\n",
       "      <th>search_type</th>\n",
       "      <th>value</th>\n",
       "    </tr>\n",
       "  </thead>\n",
       "  <tbody>\n",
       "    <tr>\n",
       "      <th>0</th>\n",
       "      <td>M</td>\n",
       "      <td>Reasonable Suspicion</td>\n",
       "      <td>0.101017</td>\n",
       "    </tr>\n",
       "    <tr>\n",
       "      <th>1</th>\n",
       "      <td>F</td>\n",
       "      <td>Reasonable Suspicion</td>\n",
       "      <td>0.059211</td>\n",
       "    </tr>\n",
       "    <tr>\n",
       "      <th>2</th>\n",
       "      <td>M</td>\n",
       "      <td>Protective Frisk</td>\n",
       "      <td>0.094353</td>\n",
       "    </tr>\n",
       "    <tr>\n",
       "      <th>3</th>\n",
       "      <td>F</td>\n",
       "      <td>Protective Frisk</td>\n",
       "      <td>0.074561</td>\n",
       "    </tr>\n",
       "    <tr>\n",
       "      <th>4</th>\n",
       "      <td>M</td>\n",
       "      <td>Probable Cause</td>\n",
       "      <td>0.367941</td>\n",
       "    </tr>\n",
       "    <tr>\n",
       "      <th>5</th>\n",
       "      <td>F</td>\n",
       "      <td>Probable Cause</td>\n",
       "      <td>0.326754</td>\n",
       "    </tr>\n",
       "    <tr>\n",
       "      <th>6</th>\n",
       "      <td>F</td>\n",
       "      <td>Inventory</td>\n",
       "      <td>0.175439</td>\n",
       "    </tr>\n",
       "    <tr>\n",
       "      <th>7</th>\n",
       "      <td>M</td>\n",
       "      <td>Inventory</td>\n",
       "      <td>0.126622</td>\n",
       "    </tr>\n",
       "    <tr>\n",
       "      <th>8</th>\n",
       "      <td>F</td>\n",
       "      <td>Incident to Arrest</td>\n",
       "      <td>0.546053</td>\n",
       "    </tr>\n",
       "    <tr>\n",
       "      <th>9</th>\n",
       "      <td>M</td>\n",
       "      <td>Incident to Arrest</td>\n",
       "      <td>0.484742</td>\n",
       "    </tr>\n",
       "  </tbody>\n",
       "</table>\n",
       "</div>"
      ],
      "text/plain": [
       "  driver_gender           search_type     value\n",
       "0             M  Reasonable Suspicion  0.101017\n",
       "1             F  Reasonable Suspicion  0.059211\n",
       "2             M      Protective Frisk  0.094353\n",
       "3             F      Protective Frisk  0.074561\n",
       "4             M        Probable Cause  0.367941\n",
       "5             F        Probable Cause  0.326754\n",
       "6             F             Inventory  0.175439\n",
       "7             M             Inventory  0.126622\n",
       "8             F    Incident to Arrest  0.546053\n",
       "9             M    Incident to Arrest  0.484742"
      ]
     },
     "execution_count": 46,
     "metadata": {},
     "output_type": "execute_result"
    }
   ],
   "source": [
    "searched_sorted = pd.melt(searched, id_vars='driver_gender',\n",
    "                          value_vars=search_type_list,\n",
    "                          var_name='search_type').sort_values(by=['search_type','value'],\n",
    "                                                                   ascending=False).reset_index(drop=True)\n",
    "searched_sorted"
   ]
  },
  {
   "cell_type": "code",
   "execution_count": 48,
   "metadata": {},
   "outputs": [
    {
     "data": {
      "image/png": "[encoded data removed]",
      "text/plain": [
       "<Figure size 720x360 with 1 Axes>"
      ]
     },
     "metadata": {
      "needs_background": "light"
     },
     "output_type": "display_data"
    }
   ],
   "source": [
    "plt.figure(figsize=(10,5))\n",
    "je = sns.barplot(data=searched_sorted, x='search_type', y='value', hue='driver_gender', hue_order=['F', 'M'], palette=[\"C1\", \"C0\"])\n",
    "plt.xlabel('search conducted')\n",
    "plt.ylabel('relative frequency')\n",
    "plt.title('Gender Bias on the type of search')\n",
    "plt.xticks(rotation=90)\n",
    "plt.legend(title='gender')\n",
    "plt.ylim([0,1])\n",
    "x_locations = np.arange(0,5)\n",
    "y_locations_male = np.array(searched_sorted[searched_sorted['driver_gender']=='F']['value'])\n",
    "y_locations_female = np.array(searched_sorted[searched_sorted['driver_gender']=='M']['value'])\n",
    "    \n",
    "for x, y, z in zip(x_locations,y_locations_male, y_locations_female):\n",
    "    je.text(x-0.21,y,str(round(y*100,2)) + '%', ha='center')\n",
    "    je.text(x+0.21,z,str(round(z*100,2)) + '%', ha='center');\n",
    "    \n",
    "je.figure.savefig('type_search.png', bbox_inches='tight')"
   ]
  }
 ],
 "metadata": {
  "kernelspec": {
   "display_name": "Python 3",
   "language": "python",
   "name": "python3"
  },
  "language_info": {
   "codemirror_mode": {
    "name": "ipython",
    "version": 3
   },
   "file_extension": ".py",
   "mimetype": "text/x-python",
   "name": "python",
   "nbconvert_exporter": "python",
   "pygments_lexer": "ipython3",
   "version": "3.7.6"
  }
 },
 "nbformat": 4,
 "nbformat_minor": 4
}
